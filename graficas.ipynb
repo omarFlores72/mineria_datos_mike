{
 "cells": [
  {
   "cell_type": "code",
   "execution_count": 1,
   "id": "d8f7826a",
   "metadata": {},
   "outputs": [],
   "source": [
    "import pandas as pd\n",
    "import seaborn as sns\n",
    "import numpy as np\n",
    "import matplotlib.pyplot as plt"
   ]
  },
  {
   "cell_type": "code",
   "execution_count": null,
   "id": "31d367cf",
   "metadata": {},
   "outputs": [],
   "source": []
  },
  {
   "cell_type": "code",
   "execution_count": 2,
   "id": "2de0cbf7",
   "metadata": {},
   "outputs": [
    {
     "data": {
      "text/html": [
       "<div>\n",
       "<style scoped>\n",
       "    .dataframe tbody tr th:only-of-type {\n",
       "        vertical-align: middle;\n",
       "    }\n",
       "\n",
       "    .dataframe tbody tr th {\n",
       "        vertical-align: top;\n",
       "    }\n",
       "\n",
       "    .dataframe thead th {\n",
       "        text-align: right;\n",
       "    }\n",
       "</style>\n",
       "<table border=\"1\" class=\"dataframe\">\n",
       "  <thead>\n",
       "    <tr style=\"text-align: right;\">\n",
       "      <th></th>\n",
       "      <th>A</th>\n",
       "      <th>B</th>\n",
       "    </tr>\n",
       "  </thead>\n",
       "  <tbody>\n",
       "    <tr>\n",
       "      <th>0</th>\n",
       "      <td>4</td>\n",
       "      <td>6</td>\n",
       "    </tr>\n",
       "    <tr>\n",
       "      <th>1</th>\n",
       "      <td>3</td>\n",
       "      <td>8</td>\n",
       "    </tr>\n",
       "    <tr>\n",
       "      <th>2</th>\n",
       "      <td>5</td>\n",
       "      <td>9</td>\n",
       "    </tr>\n",
       "    <tr>\n",
       "      <th>3</th>\n",
       "      <td>1</td>\n",
       "      <td>7</td>\n",
       "    </tr>\n",
       "    <tr>\n",
       "      <th>4</th>\n",
       "      <td>1</td>\n",
       "      <td>8</td>\n",
       "    </tr>\n",
       "    <tr>\n",
       "      <th>...</th>\n",
       "      <td>...</td>\n",
       "      <td>...</td>\n",
       "    </tr>\n",
       "    <tr>\n",
       "      <th>95</th>\n",
       "      <td>4</td>\n",
       "      <td>8</td>\n",
       "    </tr>\n",
       "    <tr>\n",
       "      <th>96</th>\n",
       "      <td>3</td>\n",
       "      <td>9</td>\n",
       "    </tr>\n",
       "    <tr>\n",
       "      <th>97</th>\n",
       "      <td>2</td>\n",
       "      <td>6</td>\n",
       "    </tr>\n",
       "    <tr>\n",
       "      <th>98</th>\n",
       "      <td>3</td>\n",
       "      <td>9</td>\n",
       "    </tr>\n",
       "    <tr>\n",
       "      <th>99</th>\n",
       "      <td>3</td>\n",
       "      <td>9</td>\n",
       "    </tr>\n",
       "  </tbody>\n",
       "</table>\n",
       "<p>100 rows × 2 columns</p>\n",
       "</div>"
      ],
      "text/plain": [
       "    A  B\n",
       "0   4  6\n",
       "1   3  8\n",
       "2   5  9\n",
       "3   1  7\n",
       "4   1  8\n",
       ".. .. ..\n",
       "95  4  8\n",
       "96  3  9\n",
       "97  2  6\n",
       "98  3  9\n",
       "99  3  9\n",
       "\n",
       "[100 rows x 2 columns]"
      ]
     },
     "execution_count": 2,
     "metadata": {},
     "output_type": "execute_result"
    }
   ],
   "source": [
    "df = pd.read_csv('numeros.csv')\n",
    "df"
   ]
  },
  {
   "cell_type": "code",
   "execution_count": 3,
   "id": "38bab720",
   "metadata": {},
   "outputs": [],
   "source": [
    "def calcular_iqr(data):\n",
    "    Q1 = np.percentile(data, 25)\n",
    "    Q3 = np.percentile(data, 75)\n",
    "    IQR = Q3 - Q1\n",
    "    return IQR"
   ]
  },
  {
   "cell_type": "code",
   "execution_count": 4,
   "id": "31dee318",
   "metadata": {},
   "outputs": [
    {
     "name": "stdout",
     "output_type": "stream",
     "text": [
      "A\n",
      "\tMediana: 3.0\n",
      "\tMedia: 2.78\n",
      "\tdesviacion estandar: 1.3377200564748022\n",
      "\tiqr: 2.0\n",
      "\tq1: 2.0\n",
      "\tq3: 4.0\n",
      "\tmin: 1\n",
      "\tmax: 5\n",
      "\tbigote_inferior: -1.0\n",
      "\tbigote_superior: 7.0\n"
     ]
    }
   ],
   "source": [
    "print('A')\n",
    "Q1 = np.percentile(df['A'], 25)\n",
    "Q3 = np.percentile(df['A'], 75)\n",
    "IQR = calcular_iqr(df['A'])\n",
    "print(f\"\\tMediana: {df['A'].median()}\") \n",
    "print(f\"\\tMedia: {df['A'].mean()}\")\n",
    "print(f\"\\tdesviacion estandar: {df['A'].std()}\")\n",
    "print(f\"\\tiqr: {IQR}\")\n",
    "print(f\"\\tq1: {Q1}\")\n",
    "print(f\"\\tq3: {Q3}\")\n",
    "print(f\"\\tmin: {df['A'].min()}\")\n",
    "print(f\"\\tmax: {df['A'].max()}\")\n",
    "print(f\"\\tbigote_inferior: {Q1 - 1.5 * IQR}\")\n",
    "print(f\"\\tbigote_superior: {Q3 + 1.5 * IQR}\")\n"
   ]
  },
  {
   "cell_type": "code",
   "execution_count": 5,
   "id": "e39f7471",
   "metadata": {},
   "outputs": [
    {
     "data": {
      "text/plain": [
       "<matplotlib.lines.Line2D at 0x7e1131624690>"
      ]
     },
     "execution_count": 5,
     "metadata": {},
     "output_type": "execute_result"
    },
    {
     "data": {
      "image/png": "[encoded data removed]",
      "text/plain": [
       "<Figure size 640x480 with 1 Axes>"
      ]
     },
     "metadata": {},
     "output_type": "display_data"
    }
   ],
   "source": [
    "\n",
    "ax = sns.boxplot(data=df['A'],showfliers=False)\n",
    "ax = sns.stripplot(data=df['A'], jitter=True, alpha = 0.5)\n",
    "ax.set_xlabel('variable A') \n",
    "ax.set_ylabel('valores')\n",
    "ax.axhline((Q1 - 1.5 * IQR), color='black', linestyle='--')\n",
    "ax.axhline((Q3 + 1.5 * IQR), color='black', linestyle='--')"
   ]
  }
 ],
 "metadata": {
  "kernelspec": {
   "display_name": "base",
   "language": "python",
   "name": "python3"
  },
  "language_info": {
   "codemirror_mode": {
    "name": "ipython",
    "version": 3
   },
   "file_extension": ".py",
   "mimetype": "text/x-python",
   "name": "python",
   "nbconvert_exporter": "python",
   "pygments_lexer": "ipython3",
   "version": "3.13.5"
  }
 },
 "nbformat": 4,
 "nbformat_minor": 5
}
